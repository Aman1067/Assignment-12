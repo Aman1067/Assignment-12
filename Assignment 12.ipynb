{
 "cells": [
  {
   "cell_type": "markdown",
   "id": "98f4a435",
   "metadata": {},
   "source": [
    "1. In what modes should the PdfFileReader() and PdfFileWriter() File objects will be opened?\n",
    "\n",
    "For PdfFileReader() file objects should be opened in rb -> read binary mode, Whereas for PdfFileWriter() file objects should be opened in wb -> write binary mode."
   ]
  },
  {
   "cell_type": "markdown",
   "id": "8fc9565c",
   "metadata": {},
   "source": [
    "2. From a PdfFileReader object, how do you get a Page object for page 5?\n",
    "\n",
    "PdfFileReader class provides a method called getPage(page_no) to get a page object. Calling getPage(4) will return a Page object for page 5 since page 0 is the first page"
   ]
  },
  {
   "cell_type": "markdown",
   "id": "adfa12af",
   "metadata": {
    "scrolled": true
   },
   "source": [
    "3. What PdfFileReader variable stores the number of pages in the PDF document?\n",
    "\n",
    "getNumPages() method of PdfFileReader class stores the no pages in a PDF document"
   ]
  },
  {
   "cell_type": "markdown",
   "id": "5a8f6b1b",
   "metadata": {},
   "source": [
    "4. If a PdfFileReader object’s PDF is encrypted with the password swordfish, what must you do before you can obtain Page objects from it?\n",
    "\n",
    "Before we can obtain Page objects from a PdfFileReader object that represents an encrypted PDF, we must decrypt it by calling the decrypt() method of the PdfFileReader object and passing the password to this method as a string argument. In the case where the password is \"swordfish\", the following code can be used to obtain Page objects from the encrypted PDF:"
   ]
  },
  {
   "cell_type": "code",
   "execution_count": null,
   "id": "ca40e9fb",
   "metadata": {},
   "outputs": [],
   "source": [
    "import PyPDF2\n",
    "\n",
    "pdf_file = open('encrypted.pdf', 'rb')\n",
    "pdf_reader = PyPDF2.PdfFileReader(pdf_file)\n",
    "if pdf_reader.isEncrypted:\n",
    "    pdf_reader.decrypt('swordfish')\n",
    "page = pdf_reader.getPage(0) # obtain the first page\n"
   ]
  },
  {
   "cell_type": "markdown",
   "id": "c6b1cef7",
   "metadata": {},
   "source": [
    "5. What methods do you use to rotate a page?\n",
    "\n",
    "We can use the rotateClockwise() and rotateCounterClockwise() methods of the PageObject class in the PyPDF2 library to rotate a PDF page clockwise or counterclockwise, respectively."
   ]
  },
  {
   "cell_type": "markdown",
   "id": "25f3681f",
   "metadata": {},
   "source": [
    "6. What is the difference between a Run object and a Paragraph object?\n",
    "\n",
    "Paragraph object: A Paragraph object is created for each paragraph of text in a Word document. It can contain multiple Run objects, which represent different portions of text with different formatting.\n",
    "\n",
    "Run object: A Run object represents a contiguous sequence of characters within a paragraph that share a consistent set of character formatting, such as font family, font size, bold, italic, etc. A paragraph may contain one or more Run objects, each with different formatting properties."
   ]
  },
  {
   "cell_type": "markdown",
   "id": "b27d5b22",
   "metadata": {},
   "source": [
    "7. How do you obtain a list of Paragraph objects for a Document object that’s stored in a variable named doc?"
   ]
  },
  {
   "cell_type": "code",
   "execution_count": null,
   "id": "6d80ea26",
   "metadata": {},
   "outputs": [],
   "source": [
    "from docx import Document\n",
    "\n",
    "# Load the Word document\n",
    "doc = Document('example.docx')\n",
    "\n",
    "# Get a list of all paragraphs in the document\n",
    "paragraphs = doc.paragraphs\n",
    "\n",
    "# Print the text of each paragraph in the document\n",
    "for paragraph in paragraphs:\n",
    "    print(paragraph.text)\n"
   ]
  },
  {
   "cell_type": "markdown",
   "id": "39da50c2",
   "metadata": {},
   "source": [
    "8. What type of object has bold, underline, italic, strike, and outline variables?\n",
    "\n",
    "run.font object has the bold, underline, italic, strike, and outline variables."
   ]
  },
  {
   "cell_type": "markdown",
   "id": "e881e938",
   "metadata": {},
   "source": [
    "9. What is the difference between False, True, and None for the bold variable?"
   ]
  },
  {
   "cell_type": "code",
   "execution_count": null,
   "id": "98fad708",
   "metadata": {},
   "outputs": [],
   "source": [
    "run.font.bold = True  # Style Set to Bold\n",
    "run.font.bold = False # Style Not Set to Bold\n",
    "run.font.bold = None # Style is Not Applicable"
   ]
  },
  {
   "cell_type": "markdown",
   "id": "421cac11",
   "metadata": {},
   "source": [
    "10. How do you create a Document object for a new Word document?\n",
    "\n",
    "To create a Document object for a new Word document using the python-docx library, we can simply call the Document() constructor without any arguments. This will create a new Document object that we can use to add paragraphs, tables, images, and other elements to the document."
   ]
  },
  {
   "cell_type": "code",
   "execution_count": null,
   "id": "d68db8a5",
   "metadata": {},
   "outputs": [],
   "source": [
    "from docx import Document\n",
    "\n",
    "# Create a new document\n",
    "doc = Document()\n",
    "\n",
    "# Add a paragraph with some text\n",
    "paragraph = doc.add_paragraph('This is a test paragraph.')\n",
    "\n",
    "# Save the document\n",
    "doc.save('test.docx')\n"
   ]
  },
  {
   "cell_type": "markdown",
   "id": "0ee3d8da",
   "metadata": {},
   "source": [
    "11. How do you add a paragraph with the text 'Hello, there!' to a Document object stored in a variable named doc?"
   ]
  },
  {
   "cell_type": "code",
   "execution_count": null,
   "id": "2668fa75",
   "metadata": {},
   "outputs": [],
   "source": [
    "from docx import Document\n",
    "doc=Document()\n",
    "paragraph=doc.add_paragraph('Hello, there!')\n",
    "doc.save('test.docx')"
   ]
  },
  {
   "cell_type": "markdown",
   "id": "0694c1ed",
   "metadata": {},
   "source": [
    "12. What integers represent the levels of headings available in Word documents?\n",
    "\n",
    "The arguments to add_heading() are a string of the heading text and an integer from 0 to 4 . The integer 0 makes the heading the Title style, which is used for the top of the document. Integers 1 to 4 are for various heading levels, with 1 being the main heading and 4 the lowest subheading."
   ]
  }
 ],
 "metadata": {
  "kernelspec": {
   "display_name": "Python 3 (ipykernel)",
   "language": "python",
   "name": "python3"
  },
  "language_info": {
   "codemirror_mode": {
    "name": "ipython",
    "version": 3
   },
   "file_extension": ".py",
   "mimetype": "text/x-python",
   "name": "python",
   "nbconvert_exporter": "python",
   "pygments_lexer": "ipython3",
   "version": "3.9.7"
  }
 },
 "nbformat": 4,
 "nbformat_minor": 5
}
